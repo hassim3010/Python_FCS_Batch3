{
 "cells": [
  {
   "cell_type": "code",
   "execution_count": 2,
   "metadata": {},
   "outputs": [
    {
     "name": "stdout",
     "output_type": "stream",
     "text": [
      "Sathyabhama\n"
     ]
    },
    {
     "data": {
      "text/plain": [
       "{'S', 'a', 'b', 'h', 'm', 't', 'y'}"
      ]
     },
     "execution_count": 2,
     "metadata": {},
     "output_type": "execute_result"
    }
   ],
   "source": [
    "{x for x in input()}"
   ]
  },
  {
   "cell_type": "code",
   "execution_count": 13,
   "metadata": {},
   "outputs": [
    {
     "name": "stdout",
     "output_type": "stream",
     "text": [
      "You are fail\n",
      "You are fail\n",
      "Grade is D\n",
      "Grade is C\n",
      "Grade is A\n"
     ]
    }
   ],
   "source": [
    "Marks = [30,40,60,70,90]\n",
    "for x in Marks:\n",
    "    if x == 90:\n",
    "        print(\"Grade is A\")\n",
    "    elif x == 80:\n",
    "        print (\"Grade is B\")\n",
    "    elif x == 70:\n",
    "        print (\"Grade is C\")\n",
    "    elif x == 60:\n",
    "        print (\"Grade is D\")\n",
    "    elif x == 50:\n",
    "        print (\"Grade is E\")\n",
    "    else:\n",
    "        print (\"You are fail\")"
   ]
  },
  {
   "cell_type": "markdown",
   "metadata": {},
   "source": [
    "# For Loop"
   ]
  },
  {
   "cell_type": "code",
   "execution_count": 15,
   "metadata": {},
   "outputs": [],
   "source": [
    "my_list = [1,2,3,4,5,6,7,8,9]"
   ]
  },
  {
   "cell_type": "code",
   "execution_count": 16,
   "metadata": {},
   "outputs": [
    {
     "name": "stdout",
     "output_type": "stream",
     "text": [
      "1\n",
      "2\n",
      "3\n",
      "4\n",
      "5\n",
      "6\n",
      "7\n",
      "8\n",
      "9\n"
     ]
    }
   ],
   "source": [
    "for my_item in my_list:\n",
    "    print(my_item)"
   ]
  },
  {
   "cell_type": "code",
   "execution_count": 23,
   "metadata": {},
   "outputs": [],
   "source": [
    "str = \"I Love FCS and some other string \""
   ]
  },
  {
   "cell_type": "code",
   "execution_count": 24,
   "metadata": {},
   "outputs": [
    {
     "name": "stdout",
     "output_type": "stream",
     "text": [
      "I\n",
      " \n",
      "L\n",
      "o\n",
      "v\n",
      "e\n",
      " \n",
      "F\n",
      "C\n",
      "S\n",
      " \n",
      "a\n",
      "n\n",
      "d\n",
      " \n",
      "s\n",
      "o\n",
      "m\n",
      "e\n",
      " \n",
      "o\n",
      "t\n",
      "h\n",
      "e\n",
      "r\n",
      " \n",
      "s\n",
      "t\n",
      "r\n",
      "i\n",
      "n\n",
      "g\n",
      " \n"
     ]
    }
   ],
   "source": [
    "for x in str:\n",
    "    print(x)"
   ]
  },
  {
   "cell_type": "code",
   "execution_count": 32,
   "metadata": {},
   "outputs": [
    {
     "name": "stdout",
     "output_type": "stream",
     "text": [
      "['My', 'name', 'is', 'Hassim']\n",
      "['My', 'name', 'is', 'Hassim']\n",
      "['My', 'name', 'is', 'Hassim']\n",
      "['My', 'name', 'is', 'Hassim']\n",
      "['My', 'name', 'is', 'Hassim']\n",
      "['My', 'name', 'is', 'Hassim']\n",
      "['My', 'name', 'is', 'Hassim']\n",
      "['My', 'name', 'is', 'Hassim']\n",
      "['My', 'name', 'is', 'Hassim']\n",
      "['My', 'name', 'is', 'Hassim']\n",
      "['My', 'name', 'is', 'Hassim']\n",
      "['My', 'name', 'is', 'Hassim']\n",
      "['My', 'name', 'is', 'Hassim']\n",
      "['My', 'name', 'is', 'Hassim']\n",
      "['My', 'name', 'is', 'Hassim']\n",
      "['My', 'name', 'is', 'Hassim']\n",
      "['My', 'name', 'is', 'Hassim']\n"
     ]
    }
   ],
   "source": [
    "for x in str:\n",
    "    print(str.split())"
   ]
  },
  {
   "cell_type": "code",
   "execution_count": 28,
   "metadata": {},
   "outputs": [],
   "source": [
    "str = 'My name is Hassim'"
   ]
  },
  {
   "cell_type": "code",
   "execution_count": 29,
   "metadata": {},
   "outputs": [
    {
     "data": {
      "text/plain": [
       "['My', 'name', 'is', 'Hassim']"
      ]
     },
     "execution_count": 29,
     "metadata": {},
     "output_type": "execute_result"
    }
   ],
   "source": [
    "str.split()"
   ]
  },
  {
   "cell_type": "code",
   "execution_count": null,
   "metadata": {},
   "outputs": [],
   "source": []
  }
 ],
 "metadata": {
  "kernelspec": {
   "display_name": "Python 3",
   "language": "python",
   "name": "python3"
  },
  "language_info": {
   "codemirror_mode": {
    "name": "ipython",
    "version": 3
   },
   "file_extension": ".py",
   "mimetype": "text/x-python",
   "name": "python",
   "nbconvert_exporter": "python",
   "pygments_lexer": "ipython3",
   "version": "3.7.1"
  }
 },
 "nbformat": 4,
 "nbformat_minor": 2
}
