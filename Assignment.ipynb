{
 "cells": [
  {
   "cell_type": "code",
   "execution_count": 14,
   "metadata": {},
   "outputs": [
    {
     "name": "stdout",
     "output_type": "stream",
     "text": [
      "1\n",
      "2\n",
      "Dog\n",
      "4\n",
      "Cat\n",
      "Dog\n",
      "7\n",
      "8\n",
      "Dog\n",
      "Cat\n",
      "11\n",
      "Dog\n",
      "13\n",
      "14\n",
      "DogCat\n",
      "16\n",
      "17\n",
      "Dog\n",
      "19\n",
      "Cat\n",
      "Dog\n",
      "22\n",
      "23\n",
      "Dog\n",
      "Cat\n",
      "26\n",
      "Dog\n",
      "28\n",
      "29\n",
      "DogCat\n",
      "31\n",
      "32\n",
      "Dog\n",
      "34\n",
      "Cat\n",
      "Dog\n",
      "37\n",
      "38\n",
      "Dog\n",
      "Cat\n",
      "41\n",
      "Dog\n",
      "43\n",
      "44\n",
      "DogCat\n",
      "46\n",
      "47\n",
      "Dog\n",
      "49\n",
      "Cat\n",
      "Dog\n",
      "52\n",
      "53\n",
      "Dog\n",
      "Cat\n",
      "56\n",
      "Dog\n",
      "58\n",
      "59\n",
      "DogCat\n",
      "61\n",
      "62\n",
      "Dog\n",
      "64\n",
      "Cat\n",
      "Dog\n",
      "67\n",
      "68\n",
      "Dog\n",
      "Cat\n",
      "71\n",
      "Dog\n",
      "73\n",
      "74\n",
      "DogCat\n",
      "76\n",
      "77\n",
      "Dog\n",
      "79\n",
      "Cat\n",
      "Dog\n",
      "82\n",
      "83\n",
      "Dog\n",
      "Cat\n",
      "86\n",
      "Dog\n",
      "88\n",
      "89\n",
      "DogCat\n",
      "91\n",
      "92\n",
      "Dog\n",
      "94\n",
      "Cat\n",
      "Dog\n",
      "97\n",
      "98\n",
      "Dog\n"
     ]
    }
   ],
   "source": [
    "for x in range(1,100):\n",
    "    if x%3 == 0  and x%5 == 0:\n",
    "        print (\"DogCat\")\n",
    "    elif x%5 == 0:\n",
    "        print (\"Cat\")\n",
    "    elif x%3 == 0:\n",
    "        print (\"Dog\")\n",
    "    else:\n",
    "        print (x)\n"
   ]
  },
  {
   "cell_type": "code",
   "execution_count": 15,
   "metadata": {},
   "outputs": [
    {
     "name": "stdout",
     "output_type": "stream",
     "text": [
      "10\n"
     ]
    }
   ],
   "source": [
    "import random\n",
    "num = random.randint(1,100)\n",
    "print (num)"
   ]
  },
  {
   "cell_type": "code",
   "execution_count": null,
   "metadata": {},
   "outputs": [],
   "source": [
    "import random\n",
    "num = random.randint(1,100)\n",
    "print(num)\n",
    "if num > 100 or num < 1:\n",
    "    print (\"Out of Bounds\")\n",
    "a=input()\n",
    "if a in range(num+10) or a in range(num-10):\n",
    "    print(\"Warm!\")\n",
    "else:\n",
    "    print(\"Cold!\")"
   ]
  },
  {
   "cell_type": "code",
   "execution_count": 1,
   "metadata": {},
   "outputs": [
    {
     "name": "stdout",
     "output_type": "stream",
     "text": [
      "37\n",
      "94\n",
      "Cold!\n"
     ]
    }
   ],
   "source": [
    "import random\n",
    "num = random.randint(1,100)\n",
    "if num > 100 or num < 1:\n",
    "    print (\"Out of Bounds\")\n",
    "a=input()\n",
    "print(num)\n",
    "if a in range(num+10) or a in range(num-10):\n",
    "    print(\"Warm!\")\n",
    "else:\n",
    "    print(\"Cold!\")"
   ]
  },
  {
   "cell_type": "code",
   "execution_count": 4,
   "metadata": {},
   "outputs": [
    {
     "name": "stdout",
     "output_type": "stream",
     "text": [
      "56\n",
      "8\n"
     ]
    },
    {
     "ename": "TypeError",
     "evalue": "'>' not supported between instances of 'str' and 'int'",
     "output_type": "error",
     "traceback": [
      "\u001b[1;31m---------------------------------------------------------------------------\u001b[0m",
      "\u001b[1;31mTypeError\u001b[0m                                 Traceback (most recent call last)",
      "\u001b[1;32m<ipython-input-4-b4d24c964f86>\u001b[0m in \u001b[0;36m<module>\u001b[1;34m\u001b[0m\n\u001b[0;32m      3\u001b[0m \u001b[0ma\u001b[0m\u001b[1;33m=\u001b[0m\u001b[0minput\u001b[0m\u001b[1;33m(\u001b[0m\u001b[1;33m)\u001b[0m\u001b[1;33m\u001b[0m\u001b[1;33m\u001b[0m\u001b[0m\n\u001b[0;32m      4\u001b[0m \u001b[0mprint\u001b[0m\u001b[1;33m(\u001b[0m\u001b[0mnum\u001b[0m\u001b[1;33m)\u001b[0m\u001b[1;33m\u001b[0m\u001b[1;33m\u001b[0m\u001b[0m\n\u001b[1;32m----> 5\u001b[1;33m \u001b[1;32mif\u001b[0m \u001b[1;33m(\u001b[0m\u001b[0ma\u001b[0m \u001b[1;33m>\u001b[0m \u001b[1;36m100\u001b[0m\u001b[1;33m)\u001b[0m \u001b[1;32mor\u001b[0m \u001b[1;33m(\u001b[0m\u001b[0ma\u001b[0m \u001b[1;33m<\u001b[0m \u001b[1;36m1\u001b[0m\u001b[1;33m)\u001b[0m\u001b[1;33m:\u001b[0m\u001b[1;33m\u001b[0m\u001b[1;33m\u001b[0m\u001b[0m\n\u001b[0m\u001b[0;32m      6\u001b[0m     \u001b[0mprint\u001b[0m \u001b[1;33m(\u001b[0m\u001b[1;34m\"Out of Bounds\"\u001b[0m\u001b[1;33m)\u001b[0m\u001b[1;33m\u001b[0m\u001b[1;33m\u001b[0m\u001b[0m\n\u001b[0;32m      7\u001b[0m \u001b[1;32melif\u001b[0m \u001b[0ma\u001b[0m \u001b[1;32min\u001b[0m \u001b[0mrange\u001b[0m\u001b[1;33m(\u001b[0m\u001b[0mnum\u001b[0m\u001b[1;33m+\u001b[0m\u001b[1;36m10\u001b[0m\u001b[1;33m)\u001b[0m \u001b[1;32mor\u001b[0m \u001b[0ma\u001b[0m \u001b[1;32min\u001b[0m \u001b[0mrange\u001b[0m\u001b[1;33m(\u001b[0m\u001b[0mnum\u001b[0m\u001b[1;33m-\u001b[0m\u001b[1;36m10\u001b[0m\u001b[1;33m)\u001b[0m\u001b[1;33m:\u001b[0m\u001b[1;33m\u001b[0m\u001b[1;33m\u001b[0m\u001b[0m\n",
      "\u001b[1;31mTypeError\u001b[0m: '>' not supported between instances of 'str' and 'int'"
     ]
    }
   ],
   "source": [
    "import random\n",
    "num = random.randint(1,100)\n",
    "a=input()\n",
    "print(num)\n",
    "if a > 100 or a < 1:\n",
    "    print (\"Out of Bounds\")\n",
    "elif a in range(num+10) or a in range(num-10):\n",
    "    print(\"Warm!\")\n",
    "else:\n",
    "    print(\"Cold!\")"
   ]
  },
  {
   "cell_type": "code",
   "execution_count": null,
   "metadata": {},
   "outputs": [],
   "source": []
  }
 ],
 "metadata": {
  "kernelspec": {
   "display_name": "Python 3",
   "language": "python",
   "name": "python3"
  },
  "language_info": {
   "codemirror_mode": {
    "name": "ipython",
    "version": 3
   },
   "file_extension": ".py",
   "mimetype": "text/x-python",
   "name": "python",
   "nbconvert_exporter": "python",
   "pygments_lexer": "ipython3",
   "version": "3.7.1"
  }
 },
 "nbformat": 4,
 "nbformat_minor": 2
}
