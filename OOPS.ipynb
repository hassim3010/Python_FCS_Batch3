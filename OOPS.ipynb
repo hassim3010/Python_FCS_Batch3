{
 "cells": [
  {
   "cell_type": "markdown",
   "metadata": {},
   "source": [
    "# Class"
   ]
  },
  {
   "cell_type": "code",
   "execution_count": 1,
   "metadata": {},
   "outputs": [],
   "source": [
    "lst = [1,2,3,4]"
   ]
  },
  {
   "cell_type": "code",
   "execution_count": 3,
   "metadata": {},
   "outputs": [
    {
     "name": "stdout",
     "output_type": "stream",
     "text": [
      "<class '__main__.SampleDample'>\n"
     ]
    }
   ],
   "source": [
    "#creating a dummy class\n",
    "\n",
    "class SampleDample:\n",
    "    pass\n",
    "\n",
    "x = SampleDample()\n",
    "\n",
    "print (type(x))"
   ]
  },
  {
   "cell_type": "code",
   "execution_count": 4,
   "metadata": {},
   "outputs": [],
   "source": [
    "class Tiger:\n",
    "    def __init__(self,breed):\n",
    "        self.breed = breed\n",
    "        \n",
    "simba = Tiger(\"Bengal Tiger\")\n",
    "PK = Tiger(\"White Tiger\")"
   ]
  },
  {
   "cell_type": "code",
   "execution_count": 6,
   "metadata": {},
   "outputs": [
    {
     "data": {
      "text/plain": [
       "'Bengal Tiger'"
      ]
     },
     "execution_count": 6,
     "metadata": {},
     "output_type": "execute_result"
    }
   ],
   "source": [
    "simba.breed"
   ]
  },
  {
   "cell_type": "code",
   "execution_count": 7,
   "metadata": {},
   "outputs": [
    {
     "data": {
      "text/plain": [
       "'White Tiger'"
      ]
     },
     "execution_count": 7,
     "metadata": {},
     "output_type": "execute_result"
    }
   ],
   "source": [
    "PK.breed"
   ]
  },
  {
   "cell_type": "code",
   "execution_count": 9,
   "metadata": {},
   "outputs": [],
   "source": [
    "class Tiger:\n",
    "    def __init__(self,breed,name):\n",
    "        self.breed = breed\n",
    "        self.name = name\n",
    "        \n",
    "simba = Tiger(\"Bengal Tiger\",\"Simba\")\n",
    "PK = Tiger(\"White Tiger\",\"PK\")"
   ]
  },
  {
   "cell_type": "code",
   "execution_count": 11,
   "metadata": {},
   "outputs": [
    {
     "name": "stdout",
     "output_type": "stream",
     "text": [
      "Bengal Tiger\n",
      "Simba\n"
     ]
    }
   ],
   "source": [
    "print(simba.breed)\n",
    "print(simba.name)"
   ]
  },
  {
   "cell_type": "code",
   "execution_count": 13,
   "metadata": {},
   "outputs": [
    {
     "name": "stdout",
     "output_type": "stream",
     "text": [
      "Bengal Tiger - Simba\n"
     ]
    }
   ],
   "source": [
    "print(simba.breed,\"-\",simba.name)"
   ]
  },
  {
   "cell_type": "code",
   "execution_count": 14,
   "metadata": {},
   "outputs": [
    {
     "name": "stdout",
     "output_type": "stream",
     "text": [
      "White Tiger - PK\n"
     ]
    }
   ],
   "source": [
    "print(PK.breed,\"-\",PK.name)"
   ]
  },
  {
   "cell_type": "markdown",
   "metadata": {},
   "source": [
    "# Methods in Class"
   ]
  },
  {
   "cell_type": "code",
   "execution_count": 18,
   "metadata": {},
   "outputs": [],
   "source": [
    "class Circle:\n",
    "    def __init__(self,radius=1):\n",
    "        self.radius = radius\n",
    "        self.area = radius * radius * 3.14\n",
    "        \n",
    "    def getCircumference(self):\n",
    "        return 2 * 3.14 * self.radius\n",
    "    \n",
    "    def setRadius(self,new_radius):\n",
    "        self.radius = new_radius\n",
    "        self.area = new_radius * new_radius * 3.14\n",
    "        \n",
    "ayan = Circle()"
   ]
  },
  {
   "cell_type": "code",
   "execution_count": 16,
   "metadata": {},
   "outputs": [
    {
     "name": "stdout",
     "output_type": "stream",
     "text": [
      "3.14\n",
      "1\n",
      "6.28\n",
      "None\n",
      "78.5\n",
      "5\n",
      "31.400000000000002\n"
     ]
    }
   ],
   "source": [
    "print (ayan.area)\n",
    "print (ayan.radius)\n",
    "print (ayan.getCircumference())\n",
    "print (ayan.setRadius(5))\n",
    "print (ayan.area)\n",
    "print (ayan.radius)\n",
    "print (ayan.getCircumference())"
   ]
  },
  {
   "cell_type": "code",
   "execution_count": 19,
   "metadata": {},
   "outputs": [
    {
     "name": "stdout",
     "output_type": "stream",
     "text": [
      "3.14\n",
      "1\n",
      "6.28\n",
      "78.5\n",
      "5\n",
      "31.400000000000002\n"
     ]
    }
   ],
   "source": [
    "print (ayan.area)\n",
    "print (ayan.radius)\n",
    "print (ayan.getCircumference())\n",
    "ayan.setRadius(5)\n",
    "print (ayan.area)\n",
    "print (ayan.radius)\n",
    "print (ayan.getCircumference())"
   ]
  },
  {
   "cell_type": "code",
   "execution_count": 20,
   "metadata": {},
   "outputs": [],
   "source": [
    "class Circle:\n",
    "    \n",
    "    pi = 31.14159\n",
    "    \n",
    "    def __init__(self,radius=1):\n",
    "        self.radius = radius\n",
    "        self.area = radius * radius * Circle.pi\n",
    "        \n",
    "    def getCircumference(self):\n",
    "        return 2 * self.pi * self.radius\n",
    "    \n",
    "    def setRadius(self,new_radius):\n",
    "        self.radius = new_radius\n",
    "        self.area = new_radius * new_radius * self.pi\n",
    "        \n",
    "ayan = Circle()"
   ]
  },
  {
   "cell_type": "code",
   "execution_count": 21,
   "metadata": {},
   "outputs": [
    {
     "name": "stdout",
     "output_type": "stream",
     "text": [
      "31.14159\n",
      "1\n",
      "62.28318\n",
      "778.53975\n",
      "5\n",
      "311.4159\n"
     ]
    }
   ],
   "source": [
    "print (ayan.area)\n",
    "print (ayan.radius)\n",
    "print (ayan.getCircumference())\n",
    "ayan.setRadius(5)\n",
    "print (ayan.area)\n",
    "print (ayan.radius)\n",
    "print (ayan.getCircumference())"
   ]
  },
  {
   "cell_type": "markdown",
   "metadata": {},
   "source": [
    "# Inheritance"
   ]
  },
  {
   "cell_type": "code",
   "execution_count": 36,
   "metadata": {},
   "outputs": [],
   "source": [
    "class dog:\n",
    "    def __init__(self,name):\n",
    "        self.name = name\n",
    "        print(self.name + \" Dog got created\")\n",
    "    def talk(self):\n",
    "        return self.name + \" Says boww boww\"\n",
    "    \n",
    "class cat:\n",
    "    def __init__(self,name):\n",
    "        self.name = name\n",
    "        print(self.name + \" Cat got created\")\n",
    "    def talk(self):\n",
    "        return self.name + \" Says meeoww meeoww\"\n",
    "    \n",
    "class minu(cat):\n",
    "    def __init__(self):\n",
    "        cat.__init__(self,'Minu')\n",
    "        print(\"Minu got created\")\n",
    "    def drink(self):\n",
    "        print(\"Drinks Milk !\")"
   ]
  },
  {
   "cell_type": "code",
   "execution_count": 40,
   "metadata": {},
   "outputs": [
    {
     "name": "stdout",
     "output_type": "stream",
     "text": [
      "Minu Cat got created\n",
      "Minu got created\n"
     ]
    }
   ],
   "source": [
    "m = minu()"
   ]
  },
  {
   "cell_type": "code",
   "execution_count": 41,
   "metadata": {},
   "outputs": [
    {
     "data": {
      "text/plain": [
       "'Minu Says meeoww meeoww'"
      ]
     },
     "execution_count": 41,
     "metadata": {},
     "output_type": "execute_result"
    }
   ],
   "source": [
    "m.talk()"
   ]
  },
  {
   "cell_type": "code",
   "execution_count": 42,
   "metadata": {},
   "outputs": [
    {
     "name": "stdout",
     "output_type": "stream",
     "text": [
      "Drinks Milk !\n"
     ]
    }
   ],
   "source": [
    "m.drink()"
   ]
  },
  {
   "cell_type": "code",
   "execution_count": 38,
   "metadata": {},
   "outputs": [
    {
     "name": "stdout",
     "output_type": "stream",
     "text": [
      "Puppy Dog got created\n"
     ]
    }
   ],
   "source": [
    "n = dog('Puppy')"
   ]
  },
  {
   "cell_type": "code",
   "execution_count": 39,
   "metadata": {},
   "outputs": [
    {
     "data": {
      "text/plain": [
       "'Puppy Says boww boww'"
      ]
     },
     "execution_count": 39,
     "metadata": {},
     "output_type": "execute_result"
    }
   ],
   "source": [
    "n.talk()"
   ]
  },
  {
   "cell_type": "code",
   "execution_count": null,
   "metadata": {},
   "outputs": [],
   "source": []
  }
 ],
 "metadata": {
  "kernelspec": {
   "display_name": "Python 3",
   "language": "python",
   "name": "python3"
  },
  "language_info": {
   "codemirror_mode": {
    "name": "ipython",
    "version": 3
   },
   "file_extension": ".py",
   "mimetype": "text/x-python",
   "name": "python",
   "nbconvert_exporter": "python",
   "pygments_lexer": "ipython3",
   "version": "3.7.1"
  }
 },
 "nbformat": 4,
 "nbformat_minor": 2
}
