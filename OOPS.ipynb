{
 "cells": [
  {
   "cell_type": "markdown",
   "metadata": {},
   "source": [
    "# Class"
   ]
  },
  {
   "cell_type": "code",
   "execution_count": 1,
   "metadata": {},
   "outputs": [],
   "source": [
    "lst = [1,2,3,4]"
   ]
  },
  {
   "cell_type": "code",
   "execution_count": 3,
   "metadata": {},
   "outputs": [
    {
     "name": "stdout",
     "output_type": "stream",
     "text": [
      "<class '__main__.SampleDample'>\n"
     ]
    }
   ],
   "source": [
    "#creating a dummy class\n",
    "\n",
    "class SampleDample:\n",
    "    pass\n",
    "\n",
    "x = SampleDample()\n",
    "\n",
    "print (type(x))"
   ]
  },
  {
   "cell_type": "code",
   "execution_count": 4,
   "metadata": {},
   "outputs": [],
   "source": [
    "class Tiger:\n",
    "    def __init__(self,breed):\n",
    "        self.breed = breed\n",
    "        \n",
    "simba = Tiger(\"Bengal Tiger\")\n",
    "PK = Tiger(\"White Tiger\")"
   ]
  },
  {
   "cell_type": "code",
   "execution_count": 6,
   "metadata": {},
   "outputs": [
    {
     "data": {
      "text/plain": [
       "'Bengal Tiger'"
      ]
     },
     "execution_count": 6,
     "metadata": {},
     "output_type": "execute_result"
    }
   ],
   "source": [
    "simba.breed"
   ]
  },
  {
   "cell_type": "code",
   "execution_count": 7,
   "metadata": {},
   "outputs": [
    {
     "data": {
      "text/plain": [
       "'White Tiger'"
      ]
     },
     "execution_count": 7,
     "metadata": {},
     "output_type": "execute_result"
    }
   ],
   "source": [
    "PK.breed"
   ]
  },
  {
   "cell_type": "code",
   "execution_count": 9,
   "metadata": {},
   "outputs": [],
   "source": [
    "class Tiger:\n",
    "    def __init__(self,breed,name):\n",
    "        self.breed = breed\n",
    "        self.name = name\n",
    "        \n",
    "simba = Tiger(\"Bengal Tiger\",\"Simba\")\n",
    "PK = Tiger(\"White Tiger\",\"PK\")"
   ]
  },
  {
   "cell_type": "code",
   "execution_count": 11,
   "metadata": {},
   "outputs": [
    {
     "name": "stdout",
     "output_type": "stream",
     "text": [
      "Bengal Tiger\n",
      "Simba\n"
     ]
    }
   ],
   "source": [
    "print(simba.breed)\n",
    "print(simba.name)"
   ]
  },
  {
   "cell_type": "code",
   "execution_count": 13,
   "metadata": {},
   "outputs": [
    {
     "name": "stdout",
     "output_type": "stream",
     "text": [
      "Bengal Tiger - Simba\n"
     ]
    }
   ],
   "source": [
    "print(simba.breed,\"-\",simba.name)"
   ]
  },
  {
   "cell_type": "code",
   "execution_count": 14,
   "metadata": {},
   "outputs": [
    {
     "name": "stdout",
     "output_type": "stream",
     "text": [
      "White Tiger - PK\n"
     ]
    }
   ],
   "source": [
    "print(PK.breed,\"-\",PK.name)"
   ]
  },
  {
   "cell_type": "markdown",
   "metadata": {},
   "source": [
    "# Methods in Class"
   ]
  },
  {
   "cell_type": "code",
   "execution_count": 18,
   "metadata": {},
   "outputs": [],
   "source": [
    "class Circle:\n",
    "    def __init__(self,radius=1):\n",
    "        self.radius = radius\n",
    "        self.area = radius * radius * 3.14\n",
    "        \n",
    "    def getCircumference(self):\n",
    "        return 2 * 3.14 * self.radius\n",
    "    \n",
    "    def setRadius(self,new_radius):\n",
    "        self.radius = new_radius\n",
    "        self.area = new_radius * new_radius * 3.14\n",
    "        \n",
    "ayan = Circle()"
   ]
  },
  {
   "cell_type": "code",
   "execution_count": 16,
   "metadata": {},
   "outputs": [
    {
     "name": "stdout",
     "output_type": "stream",
     "text": [
      "3.14\n",
      "1\n",
      "6.28\n",
      "None\n",
      "78.5\n",
      "5\n",
      "31.400000000000002\n"
     ]
    }
   ],
   "source": [
    "print (ayan.area)\n",
    "print (ayan.radius)\n",
    "print (ayan.getCircumference())\n",
    "print (ayan.setRadius(5))\n",
    "print (ayan.area)\n",
    "print (ayan.radius)\n",
    "print (ayan.getCircumference())"
   ]
  },
  {
   "cell_type": "code",
   "execution_count": 19,
   "metadata": {},
   "outputs": [
    {
     "name": "stdout",
     "output_type": "stream",
     "text": [
      "3.14\n",
      "1\n",
      "6.28\n",
      "78.5\n",
      "5\n",
      "31.400000000000002\n"
     ]
    }
   ],
   "source": [
    "print (ayan.area)\n",
    "print (ayan.radius)\n",
    "print (ayan.getCircumference())\n",
    "ayan.setRadius(5)\n",
    "print (ayan.area)\n",
    "print (ayan.radius)\n",
    "print (ayan.getCircumference())"
   ]
  },
  {
   "cell_type": "code",
   "execution_count": 20,
   "metadata": {},
   "outputs": [],
   "source": [
    "class Circle:\n",
    "    \n",
    "    pi = 31.14159\n",
    "    \n",
    "    def __init__(self,radius=1):\n",
    "        self.radius = radius\n",
    "        self.area = radius * radius * Circle.pi\n",
    "        \n",
    "    def getCircumference(self):\n",
    "        return 2 * self.pi * self.radius\n",
    "    \n",
    "    def setRadius(self,new_radius):\n",
    "        self.radius = new_radius\n",
    "        self.area = new_radius * new_radius * self.pi\n",
    "        \n",
    "ayan = Circle()"
   ]
  },
  {
   "cell_type": "code",
   "execution_count": 21,
   "metadata": {},
   "outputs": [
    {
     "name": "stdout",
     "output_type": "stream",
     "text": [
      "31.14159\n",
      "1\n",
      "62.28318\n",
      "778.53975\n",
      "5\n",
      "311.4159\n"
     ]
    }
   ],
   "source": [
    "print (ayan.area)\n",
    "print (ayan.radius)\n",
    "print (ayan.getCircumference())\n",
    "ayan.setRadius(5)\n",
    "print (ayan.area)\n",
    "print (ayan.radius)\n",
    "print (ayan.getCircumference())"
   ]
  },
  {
   "cell_type": "markdown",
   "metadata": {},
   "source": [
    "# Inheritance"
   ]
  },
  {
   "cell_type": "code",
   "execution_count": 36,
   "metadata": {},
   "outputs": [],
   "source": [
    "class dog:\n",
    "    def __init__(self,name):\n",
    "        self.name = name\n",
    "        print(self.name + \" Dog got created\")\n",
    "    def talk(self):\n",
    "        return self.name + \" Says boww boww\"\n",
    "    \n",
    "class cat:\n",
    "    def __init__(self,name):\n",
    "        self.name = name\n",
    "        print(self.name + \" Cat got created\")\n",
    "    def talk(self):\n",
    "        return self.name + \" Says meeoww meeoww\"\n",
    "    \n",
    "class minu(cat):\n",
    "    def __init__(self):\n",
    "        cat.__init__(self,'Minu')\n",
    "        print(\"Minu got created\")\n",
    "    def drink(self):\n",
    "        print(\"Drinks Milk !\")"
   ]
  },
  {
   "cell_type": "code",
   "execution_count": 40,
   "metadata": {},
   "outputs": [
    {
     "name": "stdout",
     "output_type": "stream",
     "text": [
      "Minu Cat got created\n",
      "Minu got created\n"
     ]
    }
   ],
   "source": [
    "m = minu()"
   ]
  },
  {
   "cell_type": "code",
   "execution_count": 41,
   "metadata": {},
   "outputs": [
    {
     "data": {
      "text/plain": [
       "'Minu Says meeoww meeoww'"
      ]
     },
     "execution_count": 41,
     "metadata": {},
     "output_type": "execute_result"
    }
   ],
   "source": [
    "m.talk()"
   ]
  },
  {
   "cell_type": "code",
   "execution_count": 42,
   "metadata": {},
   "outputs": [
    {
     "name": "stdout",
     "output_type": "stream",
     "text": [
      "Drinks Milk !\n"
     ]
    }
   ],
   "source": [
    "m.drink()"
   ]
  },
  {
   "cell_type": "code",
   "execution_count": 38,
   "metadata": {},
   "outputs": [
    {
     "name": "stdout",
     "output_type": "stream",
     "text": [
      "Puppy Dog got created\n"
     ]
    }
   ],
   "source": [
    "n = dog('Puppy')"
   ]
  },
  {
   "cell_type": "code",
   "execution_count": 39,
   "metadata": {},
   "outputs": [
    {
     "data": {
      "text/plain": [
       "'Puppy Says boww boww'"
      ]
     },
     "execution_count": 39,
     "metadata": {},
     "output_type": "execute_result"
    }
   ],
   "source": [
    "n.talk()"
   ]
  },
  {
   "cell_type": "markdown",
   "metadata": {},
   "source": [
    "# Polymorphism"
   ]
  },
  {
   "cell_type": "code",
   "execution_count": 1,
   "metadata": {},
   "outputs": [],
   "source": [
    "class dog:\n",
    "    def __init__(self,name):\n",
    "        self.name = name\n",
    "        print(self.name + \" Dog got created\")\n",
    "    def talk(self):\n",
    "        return self.name + \" Says boww boww\"\n",
    "    \n",
    "class cat:\n",
    "    def __init__(self,name):\n",
    "        self.name = name\n",
    "        print(self.name + \" Cat got created\")\n",
    "    def talk(self):\n",
    "        return self.name + \" Says meeoww meeoww\""
   ]
  },
  {
   "cell_type": "code",
   "execution_count": 2,
   "metadata": {},
   "outputs": [
    {
     "name": "stdout",
     "output_type": "stream",
     "text": [
      "huski Dog got created\n",
      "minu Cat got created\n"
     ]
    }
   ],
   "source": [
    "huski = dog('huski')\n",
    "minu = cat('minu')"
   ]
  },
  {
   "cell_type": "code",
   "execution_count": 4,
   "metadata": {},
   "outputs": [
    {
     "name": "stdout",
     "output_type": "stream",
     "text": [
      "huski Says boww boww\n",
      "minu Says meeoww meeoww\n"
     ]
    }
   ],
   "source": [
    "for pet in (huski,minu):\n",
    "    print (pet.talk())"
   ]
  },
  {
   "cell_type": "code",
   "execution_count": 6,
   "metadata": {},
   "outputs": [
    {
     "name": "stdout",
     "output_type": "stream",
     "text": [
      "huski Says boww boww\n",
      "minu Says meeoww meeoww\n"
     ]
    }
   ],
   "source": [
    "print(huski.talk())\n",
    "print(minu.talk())"
   ]
  },
  {
   "cell_type": "code",
   "execution_count": 9,
   "metadata": {},
   "outputs": [
    {
     "name": "stdout",
     "output_type": "stream",
     "text": [
      "Jambo African Elephant Says Trump\n",
      "Alexandar Percheron Says Tarun\n"
     ]
    }
   ],
   "source": [
    "class Animal():\n",
    "    def __init__(self,name,breed):\n",
    "        self.name = name\n",
    "        self.breed = breed\n",
    "        \n",
    "    def speak(self):\n",
    "        raise NotImplementedError(\"Sub Class Must Implement speak method\")\n",
    "        \n",
    "class Elephant(Animal):\n",
    "    def speak(self):\n",
    "        return self.name + self.breed + \" Says Trump\"\n",
    "    \n",
    "class Horse(Animal):\n",
    "    def speak(self):\n",
    "        return self.name + self.breed + \" Says Tarun\"\n",
    "    \n",
    "Jambo = Elephant('Jambo',' African Elephant')\n",
    "Alexandar = Horse('Alexandar',' Percheron')\n",
    "\n",
    "print (Jambo.speak())\n",
    "print (Alexandar.speak())"
   ]
  },
  {
   "cell_type": "code",
   "execution_count": 49,
   "metadata": {},
   "outputs": [],
   "source": [
    "class Bank():\n",
    "    \n",
    "    def __init__(self,account_owner,balance,wth_amt,dep_amt):\n",
    "        self.account_owner = account_owner\n",
    "        self.balance = balance\n",
    "        self.wth_amt = wth_amt\n",
    "        self.dep_amt = dep_amt\n",
    "\n",
    "    def Withdraw(self):\n",
    "        \n",
    "        if (self.balance > self.wth_amt):\n",
    "            self.balance -= self.wth_amt\n",
    "            return self.account_owner + \"has withdrawn\" + self.wth_amt\n",
    "            return \"balance amount is\" + self.balance\n",
    "        else:\n",
    "            return (\"Balance is low\")\n",
    "\n",
    "    def Deposit(self):\n",
    "        \n",
    "        self.balance += self.dep_amt\n",
    "        return self.account_owner + \"has deposited\" + self.dep_amt\n",
    "        return \"balance amount is\" + self.balance\n"
   ]
  },
  {
   "cell_type": "code",
   "execution_count": 76,
   "metadata": {},
   "outputs": [],
   "source": [
    "class Bank():\n",
    "    \n",
    "    def __init__(self,account_owner,balance):\n",
    "        self.account_owner = account_owner\n",
    "        self.balance = balance\n",
    "\n",
    "    def Withdraw(self,wth_amt):\n",
    "        \n",
    "        if (self.balance > wth_amt):\n",
    "            self.balance -= wth_amt\n",
    "            return [str(self.account_owner) + \" has withdrawn \" + str(wth_amt), \"balance amount is\" + str(self.balance)]\n",
    "        else:\n",
    "            return (\"Balance is low\")\n",
    "\n",
    "    def Deposit(self,dep_amt):\n",
    "        \n",
    "        self.balance += dep_amt\n",
    "        return str(self.account_owner) + \" has deposited \" + str(dep_amt)\n",
    "        return \"balance amount is\" + self.balance"
   ]
  },
  {
   "cell_type": "code",
   "execution_count": 77,
   "metadata": {},
   "outputs": [],
   "source": [
    "amount = Bank('Hassim',1000)"
   ]
  },
  {
   "cell_type": "code",
   "execution_count": 78,
   "metadata": {},
   "outputs": [
    {
     "data": {
      "text/plain": [
       "'Hassim has deposited 300'"
      ]
     },
     "execution_count": 78,
     "metadata": {},
     "output_type": "execute_result"
    }
   ],
   "source": [
    "amount.Deposit(300)"
   ]
  },
  {
   "cell_type": "code",
   "execution_count": 79,
   "metadata": {},
   "outputs": [
    {
     "data": {
      "text/plain": [
       "['Hassim has withdrawn 500', 'balance amount is800']"
      ]
     },
     "execution_count": 79,
     "metadata": {},
     "output_type": "execute_result"
    }
   ],
   "source": [
    "amount.Withdraw(500)"
   ]
  },
  {
   "cell_type": "code",
   "execution_count": 63,
   "metadata": {},
   "outputs": [
    {
     "data": {
      "text/plain": [
       "'Balance is low'"
      ]
     },
     "execution_count": 63,
     "metadata": {},
     "output_type": "execute_result"
    }
   ],
   "source": [
    "amount.Withdraw(2000)"
   ]
  },
  {
   "cell_type": "code",
   "execution_count": 44,
   "metadata": {},
   "outputs": [],
   "source": [
    "import math\n",
    "\n",
    "class Cone():\n",
    "    pi = 3.14159\n",
    "    def __init__(self,r=3,h=5):\n",
    "        self.r = r\n",
    "        self.h = h\n",
    "        self.pi = Cone.pi\n",
    "        \n",
    "    def Volume(self):\n",
    "        vol = self.pi * self.r * self.r * self.h/3\n",
    "        return 'Volume is : ' + str(vol)\n",
    "    \n",
    "    def Surface_area(self):\n",
    "        base = self.pi * self.r * self.r\n",
    "        side = self.pi * self.r * math.sqrt(self.r**2 + self.h**2)\n",
    "        surface_area = base + side\n",
    "        return \"Surface area is : \" + str(surface_area)\n",
    "    \n",
    "value = Cone()"
   ]
  },
  {
   "cell_type": "code",
   "execution_count": 45,
   "metadata": {},
   "outputs": [
    {
     "data": {
      "text/plain": [
       "'Volume is : 47.12385'"
      ]
     },
     "execution_count": 45,
     "metadata": {},
     "output_type": "execute_result"
    }
   ],
   "source": [
    "value.Volume()"
   ]
  },
  {
   "cell_type": "code",
   "execution_count": 47,
   "metadata": {},
   "outputs": [
    {
     "data": {
      "text/plain": [
       "'Surface area is : 83.22969048998114'"
      ]
     },
     "execution_count": 47,
     "metadata": {},
     "output_type": "execute_result"
    }
   ],
   "source": [
    "value.Surface_area()"
   ]
  },
  {
   "cell_type": "code",
   "execution_count": null,
   "metadata": {},
   "outputs": [],
   "source": []
  }
 ],
 "metadata": {
  "kernelspec": {
   "display_name": "Python 3",
   "language": "python",
   "name": "python3"
  },
  "language_info": {
   "codemirror_mode": {
    "name": "ipython",
    "version": 3
   },
   "file_extension": ".py",
   "mimetype": "text/x-python",
   "name": "python",
   "nbconvert_exporter": "python",
   "pygments_lexer": "ipython3",
   "version": "3.7.1"
  }
 },
 "nbformat": 4,
 "nbformat_minor": 2
}
