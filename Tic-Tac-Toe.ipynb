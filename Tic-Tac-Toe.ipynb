{
 "cells": [
  {
   "cell_type": "markdown",
   "metadata": {},
   "source": [
    "# Board creation"
   ]
  },
  {
   "cell_type": "code",
   "execution_count": 27,
   "metadata": {},
   "outputs": [],
   "source": [
    "board = ['0','1','2','3','4','5','6','7','8','9']\n",
    "def display_board(board):\n",
    "    print(' '+board[7]+' | '+board[8]+' | '+board[9]+' ')\n",
    "    print('-----------')\n",
    "    print(' '+board[4]+' | '+board[5]+' | '+board[6]+' ')\n",
    "    print('-----------')\n",
    "    print(' '+board[1]+' | '+board[2]+' | '+board[3]+' ')\n"
   ]
  },
  {
   "cell_type": "code",
   "execution_count": 12,
   "metadata": {},
   "outputs": [
    {
     "name": "stdout",
     "output_type": "stream",
     "text": [
      " 7 | 8 | 9 \n",
      "-----------\n",
      " 4 | 5 | 6 \n",
      "-----------\n",
      " 1 | 2 | 3 \n"
     ]
    }
   ],
   "source": [
    "display_board(board)"
   ]
  },
  {
   "cell_type": "code",
   "execution_count": 34,
   "metadata": {},
   "outputs": [],
   "source": [
    "from IPython.display import clear_output\n",
    "\n",
    "board = ['#','X','O','X','O','X','O','X','O','X','O']\n",
    "def display_board(board):\n",
    "    clear_output()\n",
    "    print(' '+board[7]+' | '+board[8]+' | '+board[9]+' ')\n",
    "    print('-----------')\n",
    "    print(' '+board[4]+' | '+board[5]+' | '+board[6]+' ')\n",
    "    print('-----------')\n",
    "    print(' '+board[1]+' | '+board[2]+' | '+board[3]+' ')"
   ]
  },
  {
   "cell_type": "code",
   "execution_count": 35,
   "metadata": {},
   "outputs": [
    {
     "name": "stdout",
     "output_type": "stream",
     "text": [
      " X | O | X \n",
      "-----------\n",
      " O | X | O \n",
      "-----------\n",
      " X | O | X \n"
     ]
    }
   ],
   "source": [
    "display_board(board)"
   ]
  },
  {
   "cell_type": "markdown",
   "metadata": {},
   "source": [
    "# Player Input"
   ]
  },
  {
   "cell_type": "code",
   "execution_count": 20,
   "metadata": {},
   "outputs": [],
   "source": [
    "def player_input():\n",
    "    marker = ' '\n",
    "    while not (marker == 'X' or marker == 'O'):\n",
    "               marker = input(\"Enter a marker X/O : \").upper()\n",
    "    \n",
    "    if marker == 'X':\n",
    "               return ('X','O')\n",
    "    else:\n",
    "               return ('O','X')"
   ]
  },
  {
   "cell_type": "code",
   "execution_count": 21,
   "metadata": {},
   "outputs": [
    {
     "name": "stdout",
     "output_type": "stream",
     "text": [
      "Enter a marker X/O : X\n"
     ]
    },
    {
     "data": {
      "text/plain": [
       "('X', 'O')"
      ]
     },
     "execution_count": 21,
     "metadata": {},
     "output_type": "execute_result"
    }
   ],
   "source": [
    "player_input()"
   ]
  },
  {
   "cell_type": "markdown",
   "metadata": {},
   "source": [
    "# Place Marker"
   ]
  },
  {
   "cell_type": "code",
   "execution_count": 28,
   "metadata": {},
   "outputs": [],
   "source": [
    "def place_marker(board,marker,position):\n",
    "    board[position] = marker"
   ]
  },
  {
   "cell_type": "code",
   "execution_count": 29,
   "metadata": {},
   "outputs": [],
   "source": [
    "place_marker(board,'X',5)"
   ]
  },
  {
   "cell_type": "code",
   "execution_count": 30,
   "metadata": {},
   "outputs": [
    {
     "name": "stdout",
     "output_type": "stream",
     "text": [
      " 7 | 8 | 9 \n",
      "-----------\n",
      " 4 | X | 6 \n",
      "-----------\n",
      " 1 | 2 | 3 \n"
     ]
    }
   ],
   "source": [
    "display_board(board)"
   ]
  },
  {
   "cell_type": "markdown",
   "metadata": {},
   "source": [
    "# Win check"
   ]
  },
  {
   "cell_type": "code",
   "execution_count": 37,
   "metadata": {},
   "outputs": [],
   "source": [
    "def win_check(board,marker):\n",
    "    if ((board[1] == marker and board[2] == marker and board[3] == marker ) or\n",
    "        (board[4] == marker and board[5] == marker and board[6] == marker ) or\n",
    "        (board[7] == marker and board[8] == marker and board[9] == marker ) or\n",
    "        (board[7] == marker and board[4] == marker and board[1] == marker ) or\n",
    "        (board[8] == marker and board[5] == marker and board[2] == marker ) or\n",
    "        (board[9] == marker and board[6] == marker and board[3] == marker ) or\n",
    "        (board[7] == marker and board[5] == marker and board[3] == marker ) or\n",
    "        (board[9] == marker and board[5] == marker and board[1] == marker )):\n",
    "        return True\n",
    "    else:\n",
    "        return False\n",
    "\n",
    "    "
   ]
  },
  {
   "cell_type": "code",
   "execution_count": 38,
   "metadata": {},
   "outputs": [
    {
     "data": {
      "text/plain": [
       "True"
      ]
     },
     "execution_count": 38,
     "metadata": {},
     "output_type": "execute_result"
    }
   ],
   "source": [
    "win_check(board,'X')"
   ]
  },
  {
   "cell_type": "code",
   "execution_count": 39,
   "metadata": {},
   "outputs": [
    {
     "data": {
      "text/plain": [
       "False"
      ]
     },
     "execution_count": 39,
     "metadata": {},
     "output_type": "execute_result"
    }
   ],
   "source": [
    "win_check(board,'Y')"
   ]
  },
  {
   "cell_type": "markdown",
   "metadata": {},
   "source": [
    "# Select player to start"
   ]
  },
  {
   "cell_type": "code",
   "execution_count": 50,
   "metadata": {},
   "outputs": [
    {
     "name": "stdout",
     "output_type": "stream",
     "text": [
      "Player to start: 1\n"
     ]
    }
   ],
   "source": [
    "import random\n",
    "player = random.randint(1,2)\n",
    "print (\"Player to start:\",player)"
   ]
  },
  {
   "cell_type": "code",
   "execution_count": 51,
   "metadata": {},
   "outputs": [],
   "source": [
    "import random\n",
    "\n",
    "def choose_first():\n",
    "    num = random.randint(0,1)\n",
    "    \n",
    "    if num == 1:\n",
    "        return \"Player1\"\n",
    "    else :\n",
    "        return \"Player 2\""
   ]
  },
  {
   "cell_type": "code",
   "execution_count": 52,
   "metadata": {},
   "outputs": [
    {
     "data": {
      "text/plain": [
       "'Player1'"
      ]
     },
     "execution_count": 52,
     "metadata": {},
     "output_type": "execute_result"
    }
   ],
   "source": [
    "choose_first()"
   ]
  },
  {
   "cell_type": "code",
   "execution_count": 53,
   "metadata": {},
   "outputs": [],
   "source": [
    "board = ['#','X','O',' ','O','X',' ','X','O','X','O']\n",
    "def display_board(board):\n",
    "    clear_output()\n",
    "    print(' '+board[7]+' | '+board[8]+' | '+board[9]+' ')\n",
    "    print('-----------')\n",
    "    print(' '+board[4]+' | '+board[5]+' | '+board[6]+' ')\n",
    "    print('-----------')\n",
    "    print(' '+board[1]+' | '+board[2]+' | '+board[3]+' ')"
   ]
  },
  {
   "cell_type": "code",
   "execution_count": 54,
   "metadata": {},
   "outputs": [
    {
     "name": "stdout",
     "output_type": "stream",
     "text": [
      " X | O | X \n",
      "-----------\n",
      " O | X |   \n",
      "-----------\n",
      " X | O |   \n"
     ]
    }
   ],
   "source": [
    "display_board(board)"
   ]
  },
  {
   "cell_type": "code",
   "execution_count": 55,
   "metadata": {},
   "outputs": [],
   "source": [
    "def empty_check(board,position):\n",
    "    if (board[position] == 'X' or board[position] == 'O' ):\n",
    "        return \"Position is marked\"\n",
    "    else:\n",
    "        return \"Position is empty\"\n",
    "    "
   ]
  },
  {
   "cell_type": "code",
   "execution_count": 56,
   "metadata": {},
   "outputs": [
    {
     "data": {
      "text/plain": [
       "'Position is empty'"
      ]
     },
     "execution_count": 56,
     "metadata": {},
     "output_type": "execute_result"
    }
   ],
   "source": [
    "empty_check(board,6)"
   ]
  },
  {
   "cell_type": "code",
   "execution_count": 57,
   "metadata": {},
   "outputs": [
    {
     "data": {
      "text/plain": [
       "'Position is marked'"
      ]
     },
     "execution_count": 57,
     "metadata": {},
     "output_type": "execute_result"
    }
   ],
   "source": [
    "empty_check(board,1)"
   ]
  },
  {
   "cell_type": "code",
   "execution_count": 77,
   "metadata": {},
   "outputs": [],
   "source": [
    "def empty_check(board,position):\n",
    "    return board[position] == ' '"
   ]
  },
  {
   "cell_type": "code",
   "execution_count": 59,
   "metadata": {},
   "outputs": [
    {
     "data": {
      "text/plain": [
       "False"
      ]
     },
     "execution_count": 59,
     "metadata": {},
     "output_type": "execute_result"
    }
   ],
   "source": [
    "empty_check(board,1)"
   ]
  },
  {
   "cell_type": "code",
   "execution_count": 60,
   "metadata": {},
   "outputs": [
    {
     "data": {
      "text/plain": [
       "True"
      ]
     },
     "execution_count": 60,
     "metadata": {},
     "output_type": "execute_result"
    }
   ],
   "source": [
    "empty_check(board,6)"
   ]
  },
  {
   "cell_type": "markdown",
   "metadata": {},
   "source": [
    "# Full board check"
   ]
  },
  {
   "cell_type": "code",
   "execution_count": 72,
   "metadata": {},
   "outputs": [],
   "source": [
    "board_new = ['#','X','O','X','O','X','O','X','O','X','O']\n",
    "def display_board(board_new):\n",
    "    clear_output()\n",
    "    print(' '+board[7]+' | '+board[8]+' | '+board[9]+' ')\n",
    "    print('-----------')\n",
    "    print(' '+board[4]+' | '+board[5]+' | '+board[6]+' ')\n",
    "    print('-----------')\n",
    "    print(' '+board[1]+' | '+board[2]+' | '+board[3]+' ')"
   ]
  },
  {
   "cell_type": "code",
   "execution_count": 73,
   "metadata": {},
   "outputs": [],
   "source": [
    "def board_full(board_new):\n",
    "    return (board_new[1] == ' ' or board_new[2] == ' ' or board_new[3] == ' ' or board_new[4] == ' ' or board_new[5] == ' ' or board_new[6] == ' ' or board_new[7] == ' ' or board_new[8] == ' ' or board_new[9] == ' ')\n"
   ]
  },
  {
   "cell_type": "code",
   "execution_count": 74,
   "metadata": {},
   "outputs": [
    {
     "data": {
      "text/plain": [
       "False"
      ]
     },
     "execution_count": 74,
     "metadata": {},
     "output_type": "execute_result"
    }
   ],
   "source": [
    "board_full(board_new)"
   ]
  },
  {
   "cell_type": "markdown",
   "metadata": {},
   "source": [
    "# Check if entered space is free to mark"
   ]
  },
  {
   "cell_type": "code",
   "execution_count": 75,
   "metadata": {},
   "outputs": [],
   "source": [
    "board = ['#','X','O',' ','O','X',' ','X','O','X','O']\n",
    "def display_board(board):\n",
    "    clear_output()\n",
    "    print(' '+board[7]+' | '+board[8]+' | '+board[9]+' ')\n",
    "    print('-----------')\n",
    "    print(' '+board[4]+' | '+board[5]+' | '+board[6]+' ')\n",
    "    print('-----------')\n",
    "    print(' '+board[1]+' | '+board[2]+' | '+board[3]+' ')"
   ]
  },
  {
   "cell_type": "code",
   "execution_count": 93,
   "metadata": {},
   "outputs": [],
   "source": [
    "def nxt_pos(board):\n",
    "    position = 0\n",
    "    while not position in range(1,9) or not empty_check(board,position):\n",
    "        position = int(input(\"Enter a position:\"))\n",
    "    return position\n",
    "    "
   ]
  },
  {
   "cell_type": "code",
   "execution_count": 94,
   "metadata": {},
   "outputs": [
    {
     "name": "stdout",
     "output_type": "stream",
     "text": [
      "Enter a position:5\n",
      "Enter a position:3\n"
     ]
    },
    {
     "data": {
      "text/plain": [
       "3"
      ]
     },
     "execution_count": 94,
     "metadata": {},
     "output_type": "execute_result"
    }
   ],
   "source": [
    "nxt_pos(board)"
   ]
  },
  {
   "cell_type": "markdown",
   "metadata": {},
   "source": [
    "# Check for replay"
   ]
  },
  {
   "cell_type": "code",
   "execution_count": 98,
   "metadata": {},
   "outputs": [],
   "source": [
    "def play_again():\n",
    "    return input (\"Enter Y / N : \").lower().startswith('y')"
   ]
  },
  {
   "cell_type": "code",
   "execution_count": 99,
   "metadata": {},
   "outputs": [
    {
     "name": "stdout",
     "output_type": "stream",
     "text": [
      "Enter Y / N : y\n"
     ]
    },
    {
     "data": {
      "text/plain": [
       "True"
      ]
     },
     "execution_count": 99,
     "metadata": {},
     "output_type": "execute_result"
    }
   ],
   "source": [
    "play_again()"
   ]
  },
  {
   "cell_type": "code",
   "execution_count": 100,
   "metadata": {},
   "outputs": [
    {
     "name": "stdout",
     "output_type": "stream",
     "text": [
      "Enter Y / N : N\n"
     ]
    },
    {
     "data": {
      "text/plain": [
       "False"
      ]
     },
     "execution_count": 100,
     "metadata": {},
     "output_type": "execute_result"
    }
   ],
   "source": [
    "play_again()"
   ]
  },
  {
   "cell_type": "code",
   "execution_count": null,
   "metadata": {},
   "outputs": [],
   "source": []
  }
 ],
 "metadata": {
  "kernelspec": {
   "display_name": "Python 3",
   "language": "python",
   "name": "python3"
  },
  "language_info": {
   "codemirror_mode": {
    "name": "ipython",
    "version": 3
   },
   "file_extension": ".py",
   "mimetype": "text/x-python",
   "name": "python",
   "nbconvert_exporter": "python",
   "pygments_lexer": "ipython3",
   "version": "3.7.1"
  }
 },
 "nbformat": 4,
 "nbformat_minor": 2
}
